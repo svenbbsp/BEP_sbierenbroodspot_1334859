{
 "cells": [
  {
   "cell_type": "markdown",
   "id": "7872e274",
   "metadata": {},
   "source": [
    "# Generate the labels csv file automatically"
   ]
  },
  {
   "cell_type": "code",
   "execution_count": null,
   "id": "d39a47a6",
   "metadata": {},
   "outputs": [],
   "source": [
    "import os\n",
    "import csv\n",
    "import re"
   ]
  },
  {
   "cell_type": "code",
   "execution_count": null,
   "id": "d7b2f0f5",
   "metadata": {},
   "outputs": [],
   "source": [
    "data_path = \n",
    "#c:/example/documents/example/data'\n",
    "output_path = \n",
    "#'c:/example/example.csv'"
   ]
  },
  {
   "cell_type": "code",
   "execution_count": null,
   "id": "9c246780",
   "metadata": {},
   "outputs": [],
   "source": [
    "def remove_numbers(string):\n",
    "    return re.sub(r'\\d+', '', string)\n",
    "\n",
    "def generate_labels(data_path: str, output_path: str):\n",
    "\n",
    "    # specify the path of the directory to search\n",
    "    path = data_path\n",
    "    file_extension = \".nii.gz\"\n",
    "\n",
    "    # create or append to a CSV file to store the folder names\n",
    "    with open(output_path, mode='a', newline='') as file:\n",
    "        writer = csv.writer(file)\n",
    "\n",
    "        writer.writerow([\"Label\"])\n",
    "        # loop through all files and directories in the specified path\n",
    "        for dir_name in os.listdir(path):\n",
    "            # check if the current item is a directory\n",
    "            if os.path.isdir(os.path.join(path, dir_name)):\n",
    "                # if so, write its name to the CSV file\n",
    "\n",
    "                writer.writerow([remove_numbers(dir_name)])\n",
    "\n"
   ]
  },
  {
   "cell_type": "markdown",
   "id": "da4f805e",
   "metadata": {},
   "source": [
    "# Run for output"
   ]
  },
  {
   "cell_type": "code",
   "execution_count": null,
   "id": "365a71cb",
   "metadata": {},
   "outputs": [],
   "source": [
    "generate_labels(data_path, output_path)"
   ]
  }
 ],
 "metadata": {
  "kernelspec": {
   "display_name": "Python 3 (ipykernel)",
   "language": "python",
   "name": "python3"
  },
  "language_info": {
   "codemirror_mode": {
    "name": "ipython",
    "version": 3
   },
   "file_extension": ".py",
   "mimetype": "text/x-python",
   "name": "python",
   "nbconvert_exporter": "python",
   "pygments_lexer": "ipython3",
   "version": "3.9.16"
  }
 },
 "nbformat": 4,
 "nbformat_minor": 5
}
