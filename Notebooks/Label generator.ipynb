{
 "cells": [
  {
   "cell_type": "code",
   "execution_count": null,
   "id": "d39a47a6",
   "metadata": {},
   "outputs": [],
   "source": []
  },
  {
   "cell_type": "code",
   "execution_count": 4,
   "id": "9c246780",
   "metadata": {},
   "outputs": [],
   "source": [
    "import os\n",
    "import csv\n",
    "import re\n",
    "\n",
    "def remove_numbers(string):\n",
    "    return re.sub(r'\\d+', '', string)\n",
    "\n",
    "# specify the path of the directory to search\n",
    "path = 'c:/users/sven/Documents/BEP/simplified_data'\n",
    "file_extension = \".nii.gz\"\n",
    "\n",
    "# create or append to a CSV file to store the folder names\n",
    "with open('c:/users/sven/Documents/BEP/Pyradiomics/v2/Labels.csv', mode='a', newline='') as file:\n",
    "    writer = csv.writer(file)\n",
    "    \n",
    "    writer.writerow([\"Label\"])\n",
    "    # loop through all files and directories in the specified path\n",
    "    for dir_name in os.listdir(path):\n",
    "        # check if the current item is a directory\n",
    "        if os.path.isdir(os.path.join(path, dir_name)):\n",
    "            # if so, write its name to the CSV file\n",
    "         \n",
    "            writer.writerow([remove_numbers(dir_name)])\n",
    "            \n",
    "            "
   ]
  },
  {
   "cell_type": "code",
   "execution_count": null,
   "id": "f95f837e",
   "metadata": {},
   "outputs": [],
   "source": []
  },
  {
   "cell_type": "code",
   "execution_count": null,
   "id": "365a71cb",
   "metadata": {},
   "outputs": [],
   "source": []
  }
 ],
 "metadata": {
  "kernelspec": {
   "display_name": "Python 3 (ipykernel)",
   "language": "python",
   "name": "python3"
  },
  "language_info": {
   "codemirror_mode": {
    "name": "ipython",
    "version": 3
   },
   "file_extension": ".py",
   "mimetype": "text/x-python",
   "name": "python",
   "nbconvert_exporter": "python",
   "pygments_lexer": "ipython3",
   "version": "3.7.16"
  }
 },
 "nbformat": 4,
 "nbformat_minor": 5
}
