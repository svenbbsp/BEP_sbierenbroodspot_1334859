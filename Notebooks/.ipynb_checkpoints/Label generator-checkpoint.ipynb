{
 "cells": [
  {
   "cell_type": "code",
   "execution_count": null,
   "id": "80868967",
   "metadata": {},
   "outputs": [],
   "source": [
    "import os\n",
    "import csv\n",
    "\n",
    "# specify the path of the directory to search\n",
    "path = 'c:/users/sven/Documents/BEP/data'\n",
    "file_extension = \".nii.gz\"\n",
    "\n",
    "# create or append to a CSV file to store the folder names\n",
    "with open('c:/users/sven/Documents/BEP/folderNames.csv', mode='a', newline='') as file:\n",
    "    writer = csv.writer(file)\n",
    "    \n",
    "    writer.writerow([\"ID\", \"Image\", \"Mask\"])\n",
    "    # loop through all files and directories in the specified path\n",
    "    for dir_name in os.listdir(path):\n",
    "        # check if the current item is a directory\n",
    "        if os.path.isdir(os.path.join(path, dir_name)):\n",
    "            # if so, write its name to the CSV file\n",
    "         \n",
    "            writer.writerow([dir_name, os.path.join(path, dir_name, \"IMAGES\", dir_name+file_extension ), os.path.join(path, dir_name, \"MASKS\", dir_name+file_extension )])"
   ]
  },
  {
   "cell_type": "code",
   "execution_count": null,
   "id": "0c506414",
   "metadata": {},
   "outputs": [],
   "source": []
  },
  {
   "cell_type": "code",
   "execution_count": null,
   "id": "1a103b8d",
   "metadata": {},
   "outputs": [],
   "source": []
  }
 ],
 "metadata": {
  "kernelspec": {
   "display_name": "Python 3 (ipykernel)",
   "language": "python",
   "name": "python3"
  },
  "language_info": {
   "codemirror_mode": {
    "name": "ipython",
    "version": 3
   },
   "file_extension": ".py",
   "mimetype": "text/x-python",
   "name": "python",
   "nbconvert_exporter": "python",
   "pygments_lexer": "ipython3",
   "version": "3.9.13"
  }
 },
 "nbformat": 4,
 "nbformat_minor": 5
}
