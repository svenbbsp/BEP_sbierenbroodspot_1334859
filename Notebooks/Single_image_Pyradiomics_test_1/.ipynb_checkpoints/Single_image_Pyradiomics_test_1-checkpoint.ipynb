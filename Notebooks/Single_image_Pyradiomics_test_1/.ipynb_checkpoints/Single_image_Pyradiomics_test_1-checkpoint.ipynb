{
 "cells": [
  {
   "cell_type": "markdown",
   "id": "8e5beae2",
   "metadata": {},
   "source": [
    "# Single image pyradiomics test 1\n"
   ]
  },
  {
   "cell_type": "code",
   "execution_count": 1,
   "id": "fb972288",
   "metadata": {},
   "outputs": [],
   "source": [
    "from __future__ import print_function\n",
    "import six\n",
    "import os  # needed navigate the system to get the input data\n",
    "\n",
    "import radiomics\n",
    "from radiomics import featureextractor  # This module is used for interaction with pyradiomics\n"
   ]
  },
  {
   "cell_type": "code",
   "execution_count": 26,
   "id": "2d15a638",
   "metadata": {},
   "outputs": [],
   "source": [
    "\n",
    "\n",
    "imagePath = 'c:/users/sven/Documents/BEP/data/B29/IMAGES/B29.nii.gz'\n",
    "maskPath = 'c:/users/sven/Documents/BEP/data/B29/MASKS/B29.nii.gz'\n"
   ]
  },
  {
   "cell_type": "code",
   "execution_count": 25,
   "id": "f61f35ec",
   "metadata": {},
   "outputs": [
    {
     "data": {
      "text/plain": [
       "True"
      ]
     },
     "execution_count": 25,
     "metadata": {},
     "output_type": "execute_result"
    }
   ],
   "source": [
    "os.path.isfile('c:/users/sven/Documents/BEP/data/B29/IMAGES/B29.nii.gz')"
   ]
  },
  {
   "cell_type": "markdown",
   "id": "5dd0e070",
   "metadata": {},
   "source": [
    "default settings\n"
   ]
  },
  {
   "cell_type": "code",
   "execution_count": 20,
   "id": "fb273289",
   "metadata": {},
   "outputs": [
    {
     "name": "stdout",
     "output_type": "stream",
     "text": [
      "Extraction parameters:\n",
      "\t {'minimumROIDimensions': 2, 'minimumROISize': None, 'normalize': False, 'normalizeScale': 1, 'removeOutliers': None, 'resampledPixelSpacing': None, 'interpolator': 'sitkBSpline', 'preCrop': False, 'padDistance': 5, 'distances': [1], 'force2D': False, 'force2Ddimension': 0, 'resegmentRange': None, 'label': 1, 'additionalInfo': True}\n",
      "Enabled filters:\n",
      "\t {'Original': {}}\n",
      "Enabled features:\n",
      "\t {'firstorder': [], 'glcm': [], 'gldm': [], 'glrlm': [], 'glszm': [], 'ngtdm': [], 'shape': []}\n"
     ]
    }
   ],
   "source": [
    "extractor = featureextractor.RadiomicsFeatureExtractor()\n",
    "\n",
    "print('Extraction parameters:\\n\\t', extractor.settings)\n",
    "print('Enabled filters:\\n\\t', extractor.enabledImagetypes)\n",
    "print('Enabled features:\\n\\t', extractor.enabledFeatures)"
   ]
  },
  {
   "cell_type": "markdown",
   "id": "206a69c8",
   "metadata": {},
   "source": [
    "Run the extractor\n"
   ]
  },
  {
   "cell_type": "code",
   "execution_count": 27,
   "id": "3b1e55fe",
   "metadata": {},
   "outputs": [
    {
     "name": "stderr",
     "output_type": "stream",
     "text": [
      "GLCM is symmetrical, therefore Sum Average = 2 * Joint Average, only 1 needs to be calculated\n"
     ]
    }
   ],
   "source": [
    "result = extractor.execute(imagePath, maskPath)\n"
   ]
  },
  {
   "cell_type": "code",
   "execution_count": 29,
   "id": "cc4dc7b3",
   "metadata": {},
   "outputs": [
    {
     "data": {
      "text/plain": [
       "OrderedDict([('diagnostics_Versions_PyRadiomics', 'v3.0.1'),\n",
       "             ('diagnostics_Versions_Numpy', '1.21.6'),\n",
       "             ('diagnostics_Versions_SimpleITK', '2.2.1'),\n",
       "             ('diagnostics_Versions_PyWavelet', '1.3.0'),\n",
       "             ('diagnostics_Versions_Python', '3.7.16'),\n",
       "             ('diagnostics_Configuration_Settings',\n",
       "              {'minimumROIDimensions': 2,\n",
       "               'minimumROISize': None,\n",
       "               'normalize': False,\n",
       "               'normalizeScale': 1,\n",
       "               'removeOutliers': None,\n",
       "               'resampledPixelSpacing': None,\n",
       "               'interpolator': 'sitkBSpline',\n",
       "               'preCrop': False,\n",
       "               'padDistance': 5,\n",
       "               'distances': [1],\n",
       "               'force2D': False,\n",
       "               'force2Ddimension': 0,\n",
       "               'resegmentRange': None,\n",
       "               'label': 1,\n",
       "               'additionalInfo': True}),\n",
       "             ('diagnostics_Configuration_EnabledImageTypes', {'Original': {}}),\n",
       "             ('diagnostics_Image-original_Hash',\n",
       "              '548b3dbc5c7ee9abd76553918061872cd972fd00'),\n",
       "             ('diagnostics_Image-original_Dimensionality', '3D'),\n",
       "             ('diagnostics_Image-original_Spacing',\n",
       "              (0.68359375, 0.68359375, 3.0)),\n",
       "             ('diagnostics_Image-original_Size', (512, 512, 216)),\n",
       "             ('diagnostics_Image-original_Mean', -489.8380603790283),\n",
       "             ('diagnostics_Image-original_Minimum', -1024.0),\n",
       "             ('diagnostics_Image-original_Maximum', 1708.0),\n",
       "             ('diagnostics_Mask-original_Hash',\n",
       "              'ecb2f812a13bb419c2165c1699b3046163ae4c63'),\n",
       "             ('diagnostics_Mask-original_Spacing',\n",
       "              (0.68359375, 0.68359375, 3.0)),\n",
       "             ('diagnostics_Mask-original_Size', (512, 512, 216)),\n",
       "             ('diagnostics_Mask-original_BoundingBox',\n",
       "              (75, 136, 31, 267, 189, 63)),\n",
       "             ('diagnostics_Mask-original_VoxelNum', 1207239),\n",
       "             ('diagnostics_Mask-original_VolumeNum', 1),\n",
       "             ('diagnostics_Mask-original_CenterOfMassIndex',\n",
       "              (213.01760711839162, 220.12418087884834, 61.78857707545896)),\n",
       "             ('diagnostics_Mask-original_CenterOfMass',\n",
       "              (-19.242144792115113, 119.37902341266488, 228.06574343340813)),\n",
       "             ('original_shape_Elongation', 0.6198295562833895),\n",
       "             ('original_shape_Flatness', 0.4782314845715696),\n",
       "             ('original_shape_LeastAxisLength', 95.8787439560652),\n",
       "             ('original_shape_MajorAxisLength', 200.4860554966587),\n",
       "             ('original_shape_Maximum2DDiameterColumn', array(207.15247869)),\n",
       "             ('original_shape_Maximum2DDiameterRow', array(181.53697349)),\n",
       "             ('original_shape_Maximum2DDiameterSlice', array(167.46930766)),\n",
       "             ('original_shape_Maximum3DDiameter', array(212.10704955)),\n",
       "             ('original_shape_MeshVolume', array(1691937.49785423)),\n",
       "             ('original_shape_MinorAxisLength', 124.26718281950097),\n",
       "             ('original_shape_Sphericity', array(0.71793754)),\n",
       "             ('original_shape_SurfaceArea', array(95643.10581264)),\n",
       "             ('original_shape_SurfaceVolumeRatio', array(0.05652875)),\n",
       "             ('original_shape_VoxelVolume', 1692429.8572540283),\n",
       "             ('original_firstorder_10Percentile', array(-7.)),\n",
       "             ('original_firstorder_90Percentile', array(37.)),\n",
       "             ('original_firstorder_Energy', array(8.16274203e+08)),\n",
       "             ('original_firstorder_Entropy', array(1.77827621)),\n",
       "             ('original_firstorder_InterquartileRange', array(22.)),\n",
       "             ('original_firstorder_Kurtosis', array(20.73017288)),\n",
       "             ('original_firstorder_Maximum', array(507.)),\n",
       "             ('original_firstorder_MeanAbsoluteDeviation', array(14.97209398)),\n",
       "             ('original_firstorder_Mean', array(14.56154167)),\n",
       "             ('original_firstorder_Median', array(15.)),\n",
       "             ('original_firstorder_Minimum', array(-619.)),\n",
       "             ('original_firstorder_Range', array(1126.)),\n",
       "             ('original_firstorder_RobustMeanAbsoluteDeviation',\n",
       "              array(9.37581205)),\n",
       "             ('original_firstorder_RootMeanSquared', array(26.00287734)),\n",
       "             ('original_firstorder_Skewness', array(-0.33327089)),\n",
       "             ('original_firstorder_TotalEnergy', array(1.14433582e+09)),\n",
       "             ('original_firstorder_Uniformity', array(0.37719631)),\n",
       "             ('original_firstorder_Variance', array(464.11113415)),\n",
       "             ('original_glcm_Autocorrelation', array(682.47500916)),\n",
       "             ('original_glcm_ClusterProminence', array(61.65582642)),\n",
       "             ('original_glcm_ClusterShade', array(-0.58539981)),\n",
       "             ('original_glcm_ClusterTendency', array(2.00917972)),\n",
       "             ('original_glcm_Contrast', array(0.88255307)),\n",
       "             ('original_glcm_Correlation', array(0.3827146)),\n",
       "             ('original_glcm_DifferenceAverage', array(0.63182509)),\n",
       "             ('original_glcm_DifferenceEntropy', array(1.38249988)),\n",
       "             ('original_glcm_DifferenceVariance', array(0.47638778)),\n",
       "             ('original_glcm_Id', array(0.71923546)),\n",
       "             ('original_glcm_Idm', array(0.70786246)),\n",
       "             ('original_glcm_Idmn', array(0.9995841)),\n",
       "             ('original_glcm_Idn', array(0.98666584)),\n",
       "             ('original_glcm_Imc1', array(-0.0791663)),\n",
       "             ('original_glcm_Imc2', array(0.45095522)),\n",
       "             ('original_glcm_InverseVariance', array(0.4661556)),\n",
       "             ('original_glcm_JointAverage', array(26.11883082)),\n",
       "             ('original_glcm_JointEnergy', array(0.16449965)),\n",
       "             ('original_glcm_JointEntropy', array(3.30753052)),\n",
       "             ('original_glcm_MCC', array(0.63073522)),\n",
       "             ('original_glcm_MaximumProbability', array(0.33083468)),\n",
       "             ('original_glcm_SumAverage', array(52.23766164)),\n",
       "             ('original_glcm_SumEntropy', array(2.41065755)),\n",
       "             ('original_glcm_SumSquares', array(0.7229332)),\n",
       "             ('original_gldm_DependenceEntropy', array(5.73846325)),\n",
       "             ('original_gldm_DependenceNonUniformity', array(58200.67156462)),\n",
       "             ('original_gldm_DependenceNonUniformityNormalized',\n",
       "              array(0.04820973)),\n",
       "             ('original_gldm_DependenceVariance', array(31.72303928)),\n",
       "             ('original_gldm_GrayLevelNonUniformity', array(455366.092637)),\n",
       "             ('original_gldm_GrayLevelVariance', array(0.82305252)),\n",
       "             ('original_gldm_HighGrayLevelEmphasis', array(682.15032649)),\n",
       "             ('original_gldm_LargeDependenceEmphasis', array(197.35326725)),\n",
       "             ('original_gldm_LargeDependenceHighGrayLevelEmphasis',\n",
       "              array(134556.42985523)),\n",
       "             ('original_gldm_LargeDependenceLowGrayLevelEmphasis',\n",
       "              array(0.2899232)),\n",
       "             ('original_gldm_LowGrayLevelEmphasis', array(0.00147512)),\n",
       "             ('original_gldm_SmallDependenceEmphasis', array(0.02618452)),\n",
       "             ('original_gldm_SmallDependenceHighGrayLevelEmphasis',\n",
       "              array(17.67952378)),\n",
       "             ('original_gldm_SmallDependenceLowGrayLevelEmphasis',\n",
       "              array(4.03148302e-05)),\n",
       "             ('original_glrlm_GrayLevelNonUniformity', array(192997.4798467)),\n",
       "             ('original_glrlm_GrayLevelNonUniformityNormalized',\n",
       "              array(0.29438547)),\n",
       "             ('original_glrlm_GrayLevelVariance', array(1.17381259)),\n",
       "             ('original_glrlm_HighGrayLevelRunEmphasis', array(681.84513705)),\n",
       "             ('original_glrlm_LongRunEmphasis', array(5.85240783)),\n",
       "             ('original_glrlm_LongRunHighGrayLevelEmphasis',\n",
       "              array(3987.92123194)),\n",
       "             ('original_glrlm_LongRunLowGrayLevelEmphasis', array(0.0086154)),\n",
       "             ('original_glrlm_LowGrayLevelRunEmphasis', array(0.00148042)),\n",
       "             ('original_glrlm_RunEntropy', array(3.75096581)),\n",
       "             ('original_glrlm_RunLengthNonUniformity', array(275503.29607958)),\n",
       "             ('original_glrlm_RunLengthNonUniformityNormalized',\n",
       "              array(0.4147828)),\n",
       "             ('original_glrlm_RunPercentage', array(0.54347151)),\n",
       "             ('original_glrlm_RunVariance', array(2.35624354)),\n",
       "             ('original_glrlm_ShortRunEmphasis', array(0.6626648)),\n",
       "             ('original_glrlm_ShortRunHighGrayLevelEmphasis',\n",
       "              array(451.21042001)),\n",
       "             ('original_glrlm_ShortRunLowGrayLevelEmphasis',\n",
       "              array(0.00098524)),\n",
       "             ('original_glszm_GrayLevelNonUniformity', array(4344.91851107)),\n",
       "             ('original_glszm_GrayLevelNonUniformityNormalized',\n",
       "              array(0.19868843)),\n",
       "             ('original_glszm_GrayLevelVariance', array(5.72139136)),\n",
       "             ('original_glszm_HighGrayLevelZoneEmphasis', array(672.43922627)),\n",
       "             ('original_glszm_LargeAreaEmphasis', array(24481780.39779587)),\n",
       "             ('original_glszm_LargeAreaHighGrayLevelEmphasis',\n",
       "              array(1.6698785e+10)),\n",
       "             ('original_glszm_LargeAreaLowGrayLevelEmphasis',\n",
       "              array(35931.83867235)),\n",
       "             ('original_glszm_LowGrayLevelZoneEmphasis', array(0.00159736)),\n",
       "             ('original_glszm_SizeZoneNonUniformity', array(6604.26019755)),\n",
       "             ('original_glszm_SizeZoneNonUniformityNormalized',\n",
       "              array(0.30200568)),\n",
       "             ('original_glszm_SmallAreaEmphasis', array(0.56500773)),\n",
       "             ('original_glszm_SmallAreaHighGrayLevelEmphasis',\n",
       "              array(382.27420641)),\n",
       "             ('original_glszm_SmallAreaLowGrayLevelEmphasis',\n",
       "              array(0.00089094)),\n",
       "             ('original_glszm_ZoneEntropy', array(5.33319938)),\n",
       "             ('original_glszm_ZonePercentage', array(0.01811406)),\n",
       "             ('original_glszm_ZoneVariance', array(24478732.72468451)),\n",
       "             ('original_ngtdm_Busyness', array(70.23173036)),\n",
       "             ('original_ngtdm_Coarseness', array(6.59013653e-06)),\n",
       "             ('original_ngtdm_Complexity', array(476.00572266)),\n",
       "             ('original_ngtdm_Contrast', array(0.00042228)),\n",
       "             ('original_ngtdm_Strength', array(0.0257586))])"
      ]
     },
     "execution_count": 29,
     "metadata": {},
     "output_type": "execute_result"
    }
   ],
   "source": [
    "result\n"
   ]
  }
 ],
 "metadata": {
  "kernelspec": {
   "display_name": "Python 3 (ipykernel)",
   "language": "python",
   "name": "python3"
  },
  "language_info": {
   "codemirror_mode": {
    "name": "ipython",
    "version": 3
   },
   "file_extension": ".py",
   "mimetype": "text/x-python",
   "name": "python",
   "nbconvert_exporter": "python",
   "pygments_lexer": "ipython3",
   "version": "3.7.16"
  }
 },
 "nbformat": 4,
 "nbformat_minor": 5
}
