{
 "cells": [
  {
   "cell_type": "code",
   "execution_count": 1,
   "id": "57990ae9",
   "metadata": {},
   "outputs": [],
   "source": [
    "import csv\n",
    "import random\n",
    "\n",
    "# Define the input and output file paths\n",
    "input_file = \"c:/users/sven/Documents/BEP/folderNames.csv\"\n",
    "output_file = \"c:/users/sven/Documents/BEP/folderNamesSubset.csv\"\n",
    "\n",
    "# Define the percentage of rows to select\n",
    "percent_subset = 20\n",
    "\n",
    "# Read the input CSV file and get its header\n",
    "with open(input_file, \"r\") as f:\n",
    "    reader = csv.reader(f)\n",
    "    header = next(reader)\n",
    "\n",
    "    # Calculate the number of rows to select based on the percentage\n",
    "    rows_to_select = int(percent_subset / 100 * sum(1 for row in reader))\n",
    "    f.seek(0)\n",
    "\n",
    "    # Skip the header row\n",
    "    next(reader)\n",
    "\n",
    "    # Select a random subset of rows and write them to the output file\n",
    "    with open(output_file, \"w\", newline=\"\") as f_out:\n",
    "        writer = csv.writer(f_out)\n",
    "        writer.writerow(header)\n",
    "        selected_rows = random.sample(list(reader), rows_to_select)\n",
    "        writer.writerows(selected_rows)"
   ]
  },
  {
   "cell_type": "code",
   "execution_count": 2,
   "id": "f6abfc72",
   "metadata": {},
   "outputs": [],
   "source": [
    "import csv\n",
    "\n",
    "with open('c:/users/sven/Documents/BEP/folderNamesSubset.csv', 'r') as input_file, open('c:/users/sven/Documents/BEP/subsetLabels.csv', 'w', newline='') as output_file:\n",
    "    reader = csv.reader(input_file)\n",
    "    writer = csv.writer(output_file)\n",
    "\n",
    "    for row in reader:\n",
    "        first_column = row[0]\n",
    "        first_column_without_numbers = ''.join([i for i in first_column if not i.isdigit()])\n",
    "        row[0] = first_column_without_numbers\n",
    "        writer.writerow(row)"
   ]
  }
 ],
 "metadata": {
  "kernelspec": {
   "display_name": "Python 3 (ipykernel)",
   "language": "python",
   "name": "python3"
  },
  "language_info": {
   "codemirror_mode": {
    "name": "ipython",
    "version": 3
   },
   "file_extension": ".py",
   "mimetype": "text/x-python",
   "name": "python",
   "nbconvert_exporter": "python",
   "pygments_lexer": "ipython3",
   "version": "3.9.16"
  }
 },
 "nbformat": 4,
 "nbformat_minor": 5
}
